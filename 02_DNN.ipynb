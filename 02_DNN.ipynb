{
 "cells": [
  {
   "cell_type": "code",
   "execution_count": 3,
   "metadata": {},
   "outputs": [],
   "source": [
    "import torch\n",
    "import torch.nn as nn\n",
    "import torch.nn.functional as F\n",
    "import torch.optim as optim\n",
    "import torch.utils.data as data_utils \n",
    "\n",
    "\n",
    "from torchvision import transforms\n",
    "\n",
    "import numpy as np\n",
    "import pandas as pd\n",
    "from matplotlib import pyplot as plt\n",
    "%matplotlib inline"
   ]
  },
  {
   "cell_type": "markdown",
   "metadata": {},
   "source": [
    "## custom Batch Generator"
   ]
  },
  {
   "cell_type": "markdown",
   "metadata": {},
   "source": [
    "### 1. load trn, val data"
   ]
  },
  {
   "cell_type": "code",
   "execution_count": 4,
   "metadata": {},
   "outputs": [],
   "source": [
    "trn = pd.read_csv(\"./dnn_data/trn.tsv\", sep='\\t')\n",
    "val = pd.read_csv(\"./dnn_data/val.tsv\", sep='\\t')"
   ]
  },
  {
   "cell_type": "code",
   "execution_count": 5,
   "metadata": {},
   "outputs": [
    {
     "data": {
      "text/html": [
       "<div>\n",
       "<style scoped>\n",
       "    .dataframe tbody tr th:only-of-type {\n",
       "        vertical-align: middle;\n",
       "    }\n",
       "\n",
       "    .dataframe tbody tr th {\n",
       "        vertical-align: top;\n",
       "    }\n",
       "\n",
       "    .dataframe thead th {\n",
       "        text-align: right;\n",
       "    }\n",
       "</style>\n",
       "<table border=\"1\" class=\"dataframe\">\n",
       "  <thead>\n",
       "    <tr style=\"text-align: right;\">\n",
       "      <th></th>\n",
       "      <th>feature_1</th>\n",
       "      <th>feature_2</th>\n",
       "      <th>feature_3</th>\n",
       "      <th>feature_4</th>\n",
       "      <th>feature_5</th>\n",
       "      <th>feature_6</th>\n",
       "      <th>feature_7</th>\n",
       "      <th>feature_8</th>\n",
       "      <th>y</th>\n",
       "    </tr>\n",
       "  </thead>\n",
       "  <tbody>\n",
       "    <tr>\n",
       "      <th>0</th>\n",
       "      <td>0.770747</td>\n",
       "      <td>1.777481</td>\n",
       "      <td>1.119744</td>\n",
       "      <td>10</td>\n",
       "      <td>0.904246</td>\n",
       "      <td>0.750227</td>\n",
       "      <td>6</td>\n",
       "      <td>7</td>\n",
       "      <td>74.559605</td>\n",
       "    </tr>\n",
       "    <tr>\n",
       "      <th>1</th>\n",
       "      <td>0.517279</td>\n",
       "      <td>2.102868</td>\n",
       "      <td>1.433156</td>\n",
       "      <td>10</td>\n",
       "      <td>0.835582</td>\n",
       "      <td>0.982529</td>\n",
       "      <td>4</td>\n",
       "      <td>1</td>\n",
       "      <td>68.654484</td>\n",
       "    </tr>\n",
       "    <tr>\n",
       "      <th>2</th>\n",
       "      <td>0.528888</td>\n",
       "      <td>2.287112</td>\n",
       "      <td>1.181075</td>\n",
       "      <td>1</td>\n",
       "      <td>0.944968</td>\n",
       "      <td>0.961392</td>\n",
       "      <td>7</td>\n",
       "      <td>2</td>\n",
       "      <td>81.007162</td>\n",
       "    </tr>\n",
       "    <tr>\n",
       "      <th>3</th>\n",
       "      <td>0.398252</td>\n",
       "      <td>1.285644</td>\n",
       "      <td>0.968844</td>\n",
       "      <td>1</td>\n",
       "      <td>0.946535</td>\n",
       "      <td>0.748881</td>\n",
       "      <td>7</td>\n",
       "      <td>7</td>\n",
       "      <td>82.157630</td>\n",
       "    </tr>\n",
       "    <tr>\n",
       "      <th>4</th>\n",
       "      <td>0.483614</td>\n",
       "      <td>2.503184</td>\n",
       "      <td>1.563709</td>\n",
       "      <td>10</td>\n",
       "      <td>0.936454</td>\n",
       "      <td>0.945359</td>\n",
       "      <td>7</td>\n",
       "      <td>10</td>\n",
       "      <td>86.360000</td>\n",
       "    </tr>\n",
       "  </tbody>\n",
       "</table>\n",
       "</div>"
      ],
      "text/plain": [
       "   feature_1  feature_2  feature_3  feature_4  feature_5  feature_6  \\\n",
       "0   0.770747   1.777481   1.119744         10   0.904246   0.750227   \n",
       "1   0.517279   2.102868   1.433156         10   0.835582   0.982529   \n",
       "2   0.528888   2.287112   1.181075          1   0.944968   0.961392   \n",
       "3   0.398252   1.285644   0.968844          1   0.946535   0.748881   \n",
       "4   0.483614   2.503184   1.563709         10   0.936454   0.945359   \n",
       "\n",
       "   feature_7  feature_8          y  \n",
       "0          6          7  74.559605  \n",
       "1          4          1  68.654484  \n",
       "2          7          2  81.007162  \n",
       "3          7          7  82.157630  \n",
       "4          7         10  86.360000  "
      ]
     },
     "execution_count": 5,
     "metadata": {},
     "output_type": "execute_result"
    }
   ],
   "source": [
    "trn.head()"
   ]
  },
  {
   "cell_type": "code",
   "execution_count": 7,
   "metadata": {},
   "outputs": [],
   "source": [
    "X_features = [\"feature_1\", \"feature_2\", \"feature_3\", \"feature_4\", \"feature_5\", \"feature_6\", \"feature_7\", \"feature_8\"]\n",
    "y_feature = [\"y\"]"
   ]
  },
  {
   "cell_type": "code",
   "execution_count": 8,
   "metadata": {},
   "outputs": [],
   "source": [
    "trn_X_pd, trn_y_pd = trn[X_features], trn[y_feature]\n",
    "val_X_pd, val_y_pd = val[X_features], val[y_feature]"
   ]
  },
  {
   "cell_type": "code",
   "execution_count": 16,
   "metadata": {},
   "outputs": [],
   "source": [
    "trn_X = torch.from_numpy(trn_X_pd.astype(float).as_matrix())\n",
    "trn_y = torch.from_numpy(trn_y_pd.astype(float).as_matrix())\n",
    "\n",
    "val_X = torch.from_numpy(val_X_pd.astype(float).as_matrix())\n",
    "val_y = torch.from_numpy(val_y_pd.astype(float).as_matrix())"
   ]
  },
  {
   "cell_type": "code",
   "execution_count": 3,
   "metadata": {},
   "outputs": [],
   "source": [
    "batch_size=64"
   ]
  },
  {
   "cell_type": "code",
   "execution_count": 17,
   "metadata": {},
   "outputs": [],
   "source": [
    "trn = data_utils.TensorDataset(trn_X, trn_y)\n",
    "trn_loader = data_utils.DataLoader(trn, batch_size=batch_size, shuffle=True)\n",
    "\n",
    "val = data_utils.TensorDataset(val_X, val_y)\n",
    "val_loader = data_utils.DataLoader(val, batch_size=batch_size, shuffle=False)"
   ]
  },
  {
   "cell_type": "code",
   "execution_count": 29,
   "metadata": {},
   "outputs": [],
   "source": [
    "tmp = next(iter(trn_loader))"
   ]
  },
  {
   "cell_type": "code",
   "execution_count": 30,
   "metadata": {},
   "outputs": [
    {
     "data": {
      "text/plain": [
       "{'X': tensor([[[ 0.0534,  0.2236,  0.0036,  0.0791,  0.0572,  0.0774,  0.5535,\n",
       "            0.7907]],\n",
       " \n",
       "         [[ 0.0690,  0.2621,  0.0414,  0.1100,  0.0772,  0.1084,  0.5499,\n",
       "            0.7698]],\n",
       " \n",
       "         [[ 0.0346,  0.1369,  0.0007,  0.5111,  0.0247,  0.0480,  0.3578,\n",
       "            0.7667]],\n",
       " \n",
       "         [[ 0.0512,  0.1661,  0.0400,  0.8614,  0.0597,  0.0858,  0.4307,\n",
       "            0.1723]],\n",
       " \n",
       "         [[ 0.0424,  0.1873,  0.2156,  0.8381,  0.0610,  0.0827,  0.4190,\n",
       "            0.1676]],\n",
       " \n",
       "         [[ 0.0345,  0.2083,  0.0795,  0.0772,  0.0503,  0.0772,  0.4629,\n",
       "            0.8487]],\n",
       " \n",
       "         [[ 0.0341,  0.1154,  0.0996,  0.6681,  0.0600,  0.0595,  0.4008,\n",
       "            0.6012]],\n",
       " \n",
       "         [[ 0.0241,  0.0971,  0.0581,  0.4561,  0.0354,  0.0351,  0.3193,\n",
       "            0.8210]],\n",
       " \n",
       "         [[ 0.1037,  0.3785,  0.0202,  0.1523,  0.1071,  0.1479,  0.7617,\n",
       "            0.4570]],\n",
       " \n",
       "         [[ 0.0506,  0.1621,  0.0102,  0.9036,  0.0904,  0.0867,  0.3615,\n",
       "            0.0904]],\n",
       " \n",
       "         [[ 0.0366,  0.1730,  0.0569,  0.0605,  0.0384,  0.0588,  0.3633,\n",
       "            0.9082]],\n",
       " \n",
       "         [[ 0.0383,  0.0943,  0.0644,  0.7793,  0.0724,  0.0487,  0.4676,\n",
       "            0.3897]],\n",
       " \n",
       "         [[ 0.0360,  0.1731,  0.0331,  0.7788,  0.0602,  0.0748,  0.5452,\n",
       "            0.2337]],\n",
       " \n",
       "         [[ 0.0438,  0.2002,  0.0126,  0.7748,  0.0583,  0.0769,  0.5424,\n",
       "            0.2324]],\n",
       " \n",
       "         [[ 0.0476,  0.1531,  0.0519,  0.6843,  0.0490,  0.0679,  0.3421,\n",
       "            0.6159]],\n",
       " \n",
       "         [[ 0.0534,  0.2509,  0.0618,  0.0898,  0.0504,  0.0874,  0.6289,\n",
       "            0.7187]],\n",
       " \n",
       "         [[ 0.0361,  0.1877,  0.1267,  0.8608,  0.0861,  0.0802,  0.4304,\n",
       "            0.0861]],\n",
       " \n",
       "         [[ 0.0660,  0.2957,  0.1339,  0.1262,  0.1262,  0.1196,  0.8834,\n",
       "            0.2524]],\n",
       " \n",
       "         [[ 0.0317,  0.0926,  0.0323,  0.0539,  0.0385,  0.0378,  0.3776,\n",
       "            0.9170]],\n",
       " \n",
       "         [[ 0.0779,  0.2809,  0.1590,  0.1181,  0.1140,  0.1126,  0.7083,\n",
       "            0.5903]],\n",
       " \n",
       "         [[ 0.0448,  0.1624,  0.1472,  0.8181,  0.0818,  0.0785,  0.4909,\n",
       "            0.1636]],\n",
       " \n",
       "         [[ 0.0428,  0.2180,  0.1299,  0.0629,  0.0582,  0.0617,  0.5034,\n",
       "            0.8180]],\n",
       " \n",
       "         [[ 0.0393,  0.1759,  0.0463,  0.7933,  0.0567,  0.0746,  0.4760,\n",
       "            0.3173]],\n",
       " \n",
       "         [[ 0.0364,  0.1958,  0.0257,  0.1342,  0.0342,  0.0639,  0.5368,\n",
       "            0.8052]],\n",
       " \n",
       "         [[ 0.0416,  0.1355,  0.0483,  0.8398,  0.0840,  0.0658,  0.5039,\n",
       "            0.0840]],\n",
       " \n",
       "         [[ 0.0457,  0.1238,  0.0500,  0.8778,  0.0612,  0.0739,  0.4389,\n",
       "            0.0878]],\n",
       " \n",
       "         [[ 0.0238,  0.0595,  0.0368,  0.5362,  0.0372,  0.0340,  0.3754,\n",
       "            0.7507]],\n",
       " \n",
       "         [[ 0.0519,  0.1768,  0.1217,  0.8050,  0.0769,  0.0761,  0.4830,\n",
       "            0.2415]],\n",
       " \n",
       "         [[ 0.0532,  0.1368,  0.1814,  0.8263,  0.0826,  0.0576,  0.4958,\n",
       "            0.0826]],\n",
       " \n",
       "         [[ 0.0748,  0.3057,  0.0047,  0.4628,  0.0683,  0.1122,  0.5786,\n",
       "            0.5786]],\n",
       " \n",
       "         [[ 0.0367,  0.1585,  0.0441,  0.5981,  0.0478,  0.0577,  0.4187,\n",
       "            0.6579]],\n",
       " \n",
       "         [[ 0.0533,  0.2616,  0.1292,  0.0942,  0.0890,  0.0909,  0.5651,\n",
       "            0.7534]],\n",
       " \n",
       "         [[ 0.0481,  0.1377,  0.0174,  0.7008,  0.0556,  0.0531,  0.4906,\n",
       "            0.4906]],\n",
       " \n",
       "         [[ 0.0247,  0.1415,  0.0452,  0.0432,  0.0349,  0.0389,  0.3885,\n",
       "            0.9065]],\n",
       " \n",
       "         [[ 0.0940,  0.3853,  0.2016,  0.1479,  0.1219,  0.1453,  0.7397,\n",
       "            0.4438]],\n",
       " \n",
       "         [[ 0.0787,  0.3884,  0.0903,  0.1329,  0.0721,  0.1309,  0.7974,\n",
       "            0.3987]],\n",
       " \n",
       "         [[ 0.0449,  0.1730,  0.1153,  0.7567,  0.0735,  0.0685,  0.5297,\n",
       "            0.3027]],\n",
       " \n",
       "         [[ 0.0594,  0.2587,  0.0492,  0.0950,  0.0789,  0.0950,  0.5701,\n",
       "            0.7601]],\n",
       " \n",
       "         [[ 0.0473,  0.1878,  0.0368,  0.2063,  0.0463,  0.0640,  0.4813,\n",
       "            0.8251]],\n",
       " \n",
       "         [[ 0.0387,  0.1193,  0.0167,  0.7041,  0.0612,  0.0610,  0.2816,\n",
       "            0.6337]],\n",
       " \n",
       "         [[ 0.0441,  0.1954,  0.0530,  0.7874,  0.0493,  0.0771,  0.5512,\n",
       "            0.1575]],\n",
       " \n",
       "         [[ 0.0244,  0.0932,  0.0412,  0.0503,  0.0429,  0.0358,  0.4027,\n",
       "            0.9062]],\n",
       " \n",
       "         [[ 0.0681,  0.2200,  0.0431,  0.0969,  0.0789,  0.0940,  0.6785,\n",
       "            0.6785]],\n",
       " \n",
       "         [[ 0.0445,  0.1702,  0.0371,  0.3147,  0.0360,  0.0606,  0.4406,\n",
       "            0.8183]],\n",
       " \n",
       "         [[ 0.0172,  0.0731,  0.0393,  0.0393,  0.0393,  0.0291,  0.3145,\n",
       "            0.9434]],\n",
       " \n",
       "         [[ 0.0463,  0.1757,  0.0093,  0.7925,  0.0793,  0.0772,  0.4755,\n",
       "            0.3170]],\n",
       " \n",
       "         [[ 0.0589,  0.1376,  0.0879,  0.7725,  0.0762,  0.0569,  0.4635,\n",
       "            0.3863]],\n",
       " \n",
       "         [[ 0.0455,  0.1670,  0.0060,  0.8708,  0.0871,  0.0841,  0.4354,\n",
       "            0.0871]],\n",
       " \n",
       "         [[ 0.0709,  0.1577,  0.0783,  0.0903,  0.0651,  0.0815,  0.3610,\n",
       "            0.9026]],\n",
       " \n",
       "         [[ 0.0451,  0.1304,  0.0588,  0.6694,  0.0495,  0.0506,  0.4017,\n",
       "            0.6025]],\n",
       " \n",
       "         [[ 0.0317,  0.1028,  0.1072,  0.5895,  0.0461,  0.0434,  0.3537,\n",
       "            0.7074]],\n",
       " \n",
       "         [[ 0.0397,  0.1416,  0.0447,  0.0555,  0.0497,  0.0548,  0.2776,\n",
       "            0.9438]],\n",
       " \n",
       "         [[ 0.0632,  0.3116,  0.0036,  0.1013,  0.0746,  0.1009,  0.7094,\n",
       "            0.6080]],\n",
       " \n",
       "         [[ 0.0451,  0.1176,  0.1163,  0.8737,  0.0359,  0.0864,  0.4369,\n",
       "            0.0874]],\n",
       " \n",
       "         [[ 0.0993,  0.3727,  0.1517,  0.1506,  0.1129,  0.1489,  0.7528,\n",
       "            0.4517]],\n",
       " \n",
       "         [[ 0.0712,  0.3427,  0.1293,  0.1280,  0.0951,  0.1272,  0.8960,\n",
       "            0.1280]],\n",
       " \n",
       "         [[ 0.0452,  0.1276,  0.0317,  0.6707,  0.0449,  0.0508,  0.4024,\n",
       "            0.6036]],\n",
       " \n",
       "         [[ 0.0378,  0.1814,  0.0002,  0.6210,  0.0410,  0.0615,  0.4347,\n",
       "            0.6210]],\n",
       " \n",
       "         [[ 0.0541,  0.1784,  0.0832,  0.7683,  0.0497,  0.0735,  0.4610,\n",
       "            0.3842]],\n",
       " \n",
       "         [[ 0.0528,  0.1168,  0.0599,  0.8334,  0.0643,  0.0591,  0.5000,\n",
       "            0.1667]],\n",
       " \n",
       "         [[ 0.0357,  0.1584,  0.0556,  0.0608,  0.0302,  0.0588,  0.4867,\n",
       "            0.8518]],\n",
       " \n",
       "         [[ 0.0476,  0.1502,  0.0702,  0.0750,  0.0745,  0.0622,  0.5247,\n",
       "            0.8246]],\n",
       " \n",
       "         [[ 0.0834,  0.2423,  0.1184,  0.1206,  0.0865,  0.1077,  0.7234,\n",
       "            0.6028]],\n",
       " \n",
       "         [[ 0.0521,  0.1199,  0.0043,  0.8536,  0.0496,  0.0640,  0.4268,\n",
       "            0.2561]]]),\n",
       " 'y': tensor([ 77.6000,  89.0973,  83.8267,  75.6263,  85.5685,  78.2408,\n",
       "          71.0200,  81.5261,  89.2529,  71.9700,  79.9396,  79.8728,\n",
       "          79.8733,  84.1000,  82.4500,  82.4549,  65.9806,  77.9127,\n",
       "          75.3177,  84.2800,  83.1798,  75.6346,  74.3406,  85.6526,\n",
       "          81.8022,  77.2585,  65.2134,  83.0400,  80.8170,  79.0558,\n",
       "          78.6324,  88.7547,  83.4700,  87.4581,  88.7547,  88.2785,\n",
       "          86.7296,  85.2653,  82.7900,  85.0600,  76.4985,  74.8306,\n",
       "          84.4818,  87.0200,  85.5148,  74.1000,  82.6987,  68.8527,\n",
       "          87.4594,  82.4900,  82.4500,  89.0973,  81.0285,  76.7874,\n",
       "          88.1800,  85.3900,  85.6108,  84.7338,  85.2600,  85.7700,\n",
       "          85.3250,  65.7694,  85.8900,  81.1505])}"
      ]
     },
     "execution_count": 30,
     "metadata": {},
     "output_type": "execute_result"
    }
   ],
   "source": [
    "tmp"
   ]
  },
  {
   "cell_type": "code",
   "execution_count": 32,
   "metadata": {},
   "outputs": [],
   "source": [
    "num_batches = len(trn_loader)"
   ]
  },
  {
   "cell_type": "markdown",
   "metadata": {},
   "source": [
    "## Build Model"
   ]
  },
  {
   "cell_type": "code",
   "execution_count": 33,
   "metadata": {},
   "outputs": [],
   "source": [
    "use_cuda = torch.cuda.is_available()"
   ]
  },
  {
   "cell_type": "code",
   "execution_count": 34,
   "metadata": {},
   "outputs": [],
   "source": [
    "class MLPRegressor(nn.Module):\n",
    "    \n",
    "    def __init__(self):\n",
    "        super(MLPRegressor, self).__init__()\n",
    "        h1 = nn.Linear(len(X_features), 50)\n",
    "        h2 = nn.Linear(50, 35)\n",
    "        h3 = nn.Linear(35, 1)\n",
    "        self.hidden = nn.Sequential(\n",
    "            h1,\n",
    "            nn.Tanh(),\n",
    "            h2,\n",
    "            nn.Tanh(),\n",
    "            h3,\n",
    "        )\n",
    "        if use_cuda:\n",
    "            self.hidden = self.hidden.cuda()\n",
    "        \n",
    "    def forward(self, x):\n",
    "        o = self.hidden(x)\n",
    "        return o.view(-1)"
   ]
  },
  {
   "cell_type": "markdown",
   "metadata": {},
   "source": [
    "## Train model"
   ]
  },
  {
   "cell_type": "code",
   "execution_count": 35,
   "metadata": {},
   "outputs": [],
   "source": [
    "model = MLPRegressor()"
   ]
  },
  {
   "cell_type": "code",
   "execution_count": 36,
   "metadata": {},
   "outputs": [],
   "source": [
    "criterion = nn.MSELoss()\n",
    "learning_rate = 1e-3\n",
    "optimizer = optim.Adam(model.parameters(), lr=learning_rate)"
   ]
  },
  {
   "cell_type": "code",
   "execution_count": 37,
   "metadata": {},
   "outputs": [],
   "source": [
    "num_epochs = 10\n",
    "num_batches = len(trn_loader)"
   ]
  },
  {
   "cell_type": "code",
   "execution_count": 38,
   "metadata": {},
   "outputs": [
    {
     "data": {
      "text/plain": [
       "35"
      ]
     },
     "execution_count": 38,
     "metadata": {},
     "output_type": "execute_result"
    }
   ],
   "source": [
    "num_batches"
   ]
  },
  {
   "cell_type": "code",
   "execution_count": 39,
   "metadata": {},
   "outputs": [
    {
     "name": "stdout",
     "output_type": "stream",
     "text": [
      "epoch: 1/10 | step: 15/35 | trn_loss: 80.4772 | val_loss: 79.9006\n",
      "epoch: 1/10 | step: 30/35 | trn_loss: 79.5698 | val_loss: 78.7983\n",
      "epoch: 2/10 | step: 15/35 | trn_loss: 77.8362 | val_loss: 76.9738\n",
      "epoch: 2/10 | step: 30/35 | trn_loss: 76.5909 | val_loss: 75.7759\n",
      "epoch: 3/10 | step: 15/35 | trn_loss: 75.1105 | val_loss: 74.2213\n",
      "epoch: 3/10 | step: 30/35 | trn_loss: 73.8596 | val_loss: 73.4308\n",
      "epoch: 4/10 | step: 15/35 | trn_loss: 72.9306 | val_loss: 72.4381\n",
      "epoch: 4/10 | step: 30/35 | trn_loss: 72.2745 | val_loss: 71.6900\n",
      "epoch: 5/10 | step: 15/35 | trn_loss: 71.4342 | val_loss: 70.8200\n",
      "epoch: 5/10 | step: 30/35 | trn_loss: 70.6700 | val_loss: 70.2096\n",
      "epoch: 6/10 | step: 15/35 | trn_loss: 69.7620 | val_loss: 69.4448\n",
      "epoch: 6/10 | step: 30/35 | trn_loss: 69.3763 | val_loss: 68.8077\n",
      "epoch: 7/10 | step: 15/35 | trn_loss: 68.6557 | val_loss: 68.0679\n",
      "epoch: 7/10 | step: 30/35 | trn_loss: 67.7106 | val_loss: 67.4442\n",
      "epoch: 8/10 | step: 15/35 | trn_loss: 66.9765 | val_loss: 66.6800\n",
      "epoch: 8/10 | step: 30/35 | trn_loss: 66.6197 | val_loss: 66.0855\n",
      "epoch: 9/10 | step: 15/35 | trn_loss: 65.7067 | val_loss: 65.3690\n",
      "epoch: 9/10 | step: 30/35 | trn_loss: 65.2980 | val_loss: 64.8316\n",
      "epoch: 10/10 | step: 15/35 | trn_loss: 64.4303 | val_loss: 64.1169\n",
      "epoch: 10/10 | step: 30/35 | trn_loss: 64.0514 | val_loss: 63.5649\n",
      "finish Training\n"
     ]
    }
   ],
   "source": [
    "trn_loss_list = []\n",
    "val_loss_list = []\n",
    "\n",
    "for epoch in range(num_epochs):\n",
    "    trn_loss_summary = 0.0\n",
    "    for i, trn in enumerate(trn_loader):\n",
    "        trn_X, trn_y = trn['X'], trn['y']\n",
    "        if use_cuda:\n",
    "            trn_X, trn_y = trn_X.cuda(), trn_y.cuda()\n",
    "        optimizer.zero_grad()\n",
    "        trn_pred = model(trn_X)\n",
    "        trn_loss = criterion(trn_pred, trn_y)\n",
    "        trn_loss.backward()\n",
    "        optimizer.step()\n",
    "        \n",
    "        trn_loss_summary += trn_loss\n",
    "        \n",
    "        if (i+1) % 15 == 0:\n",
    "            with torch.no_grad():\n",
    "                val_loss_summary = 0.0\n",
    "                for j, val in enumerate(val_loader):\n",
    "                    val_X, val_y = val['X'], val['y']\n",
    "                    if use_cuda:\n",
    "                        val_X, val_y = val_X.cuda(), val_y.cuda()\n",
    "                    val_pred = model(val_X)\n",
    "                    val_loss = criterion(val_pred, val_y)\n",
    "                    val_loss_summary += val_loss\n",
    "                \n",
    "            print(\"epoch: {}/{} | step: {}/{} | trn_loss: {:.4f} | val_loss: {:.4f}\".format(\n",
    "                epoch + 1, num_epochs, i+1, num_batches, (trn_loss_summary/15)**(1/2), (val_loss_summary/len(val_loader))**(1/2)\n",
    "            ))\n",
    "                \n",
    "            trn_loss_list.append((trn_loss_summary/15)**(1/2))\n",
    "            val_loss_list.append((val_loss_summary/len(val_loader))**(1/2))\n",
    "            trn_loss_summary = 0.0\n",
    "        \n",
    "print(\"finish Training\")"
   ]
  },
  {
   "cell_type": "markdown",
   "metadata": {},
   "source": [
    "### Visualize"
   ]
  },
  {
   "cell_type": "code",
   "execution_count": 40,
   "metadata": {},
   "outputs": [
    {
     "data": {
      "text/plain": [
       "Text(0,0.5,'loss')"
      ]
     },
     "execution_count": 40,
     "metadata": {},
     "output_type": "execute_result"
    },
    {
     "data": {
      "image/png": "[encoded data removed]",
      "text/plain": [
       "<Figure size 1152x648 with 1 Axes>"
      ]
     },
     "metadata": {},
     "output_type": "display_data"
    }
   ],
   "source": [
    "plt.figure(figsize=(16,9))\n",
    "x_range = range(len(trn_loss_list))\n",
    "plt.plot(x_range, trn_loss_list, label=\"trn\")\n",
    "plt.plot(x_range, val_loss_list, label=\"val\")\n",
    "plt.legend()\n",
    "plt.xlabel(\"training steps\")\n",
    "plt.ylabel(\"loss\")"
   ]
  },
  {
   "cell_type": "code",
   "execution_count": null,
   "metadata": {},
   "outputs": [],
   "source": []
  }
 ],
 "metadata": {
  "kernelspec": {
   "display_name": "Python 3",
   "language": "python",
   "name": "python3"
  },
  "language_info": {
   "codemirror_mode": {
    "name": "ipython",
    "version": 3
   },
   "file_extension": ".py",
   "mimetype": "text/x-python",
   "name": "python",
   "nbconvert_exporter": "python",
   "pygments_lexer": "ipython3",
   "version": "3.6.4"
  }
 },
 "nbformat": 4,
 "nbformat_minor": 2
}
